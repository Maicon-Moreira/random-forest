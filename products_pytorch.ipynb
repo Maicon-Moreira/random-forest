{
 "cells": [
  {
   "cell_type": "code",
   "execution_count": 1,
   "source": [
    "import numpy as np\r\n",
    "import matplotlib.pyplot as plt\r\n",
    "import pandas as pd"
   ],
   "outputs": [],
   "metadata": {}
  },
  {
   "cell_type": "code",
   "execution_count": 2,
   "source": [
    "dataset = pd.read_csv(\"products.csv\")\r\n",
    "x = dataset.values[:,2:4]\r\n",
    "y = dataset.values[:,4]\r\n",
    "\r\n",
    "# show 10 first x and y\r\n",
    "print(x[:10])\r\n",
    "print(y[:10])"
   ],
   "outputs": [
    {
     "output_type": "stream",
     "name": "stdout",
     "text": [
      "[[19 19000]\n",
      " [35 20000]\n",
      " [26 43000]\n",
      " [27 57000]\n",
      " [19 76000]\n",
      " [27 58000]\n",
      " [27 84000]\n",
      " [32 150000]\n",
      " [25 33000]\n",
      " [35 65000]]\n",
      "[0 0 0 0 0 0 0 1 0 0]\n"
     ]
    }
   ],
   "metadata": {}
  },
  {
   "cell_type": "code",
   "execution_count": 3,
   "source": [
    "from sklearn.model_selection import train_test_split\r\n",
    "\r\n",
    "x_train, x_test, y_train, y_test = train_test_split(\r\n",
    "    x, y, test_size=0.25, random_state=0\r\n",
    ")\r\n",
    "\r\n",
    "# print 5 first in x_train, y_train, x_test, y_test\r\n",
    "print(x_train[:5])\r\n",
    "print(y_train[:5])\r\n",
    "print(x_test[:5])\r\n",
    "print(y_test[:5])"
   ],
   "outputs": [
    {
     "output_type": "stream",
     "name": "stdout",
     "text": [
      "[[44 39000]\n",
      " [32 120000]\n",
      " [38 50000]\n",
      " [32 135000]\n",
      " [52 21000]]\n",
      "[0 1 0 1 1]\n",
      "[[30 87000]\n",
      " [38 50000]\n",
      " [35 75000]\n",
      " [30 79000]\n",
      " [35 50000]]\n",
      "[0 0 0 0 0]\n"
     ]
    }
   ],
   "metadata": {}
  },
  {
   "cell_type": "code",
   "execution_count": 4,
   "source": [
    "from sklearn.preprocessing import StandardScaler\r\n",
    "\r\n",
    "sc_x = StandardScaler()\r\n",
    "x_train = sc_x.fit_transform(x_train)\r\n",
    "x_test = sc_x.transform(x_test)\r\n",
    "\r\n",
    "# print 5 first in x_train, x_test\r\n",
    "print(x_train[:5])\r\n",
    "print(x_test[:5])"
   ],
   "outputs": [
    {
     "output_type": "stream",
     "name": "stdout",
     "text": [
      "[[ 0.58164944 -0.88670699]\n",
      " [-0.60673761  1.46173768]\n",
      " [-0.01254409 -0.5677824 ]\n",
      " [-0.60673761  1.89663484]\n",
      " [ 1.37390747 -1.40858358]]\n",
      "[[-0.80480212  0.50496393]\n",
      " [-0.01254409 -0.5677824 ]\n",
      " [-0.30964085  0.1570462 ]\n",
      " [-0.80480212  0.27301877]\n",
      " [-0.30964085 -0.5677824 ]]\n"
     ]
    }
   ],
   "metadata": {}
  },
  {
   "cell_type": "code",
   "execution_count": 5,
   "source": [
    "import torch as t\r\n",
    "x_train = t.tensor(x_train.astype(np.float32))\r\n",
    "x_test = t.tensor(x_test.astype(np.float32))\r\n",
    "y_train = t.tensor(y_train.astype(np.float32))\r\n",
    "y_test = t.tensor(y_test.astype(np.float32))"
   ],
   "outputs": [],
   "metadata": {}
  },
  {
   "cell_type": "code",
   "execution_count": 6,
   "source": [
    "from prettytable import PrettyTable\r\n",
    "\r\n",
    "def count_parameters(model):\r\n",
    "    table = PrettyTable([\"Modules\", \"Parameters\"])\r\n",
    "    total_params = 0\r\n",
    "    for name, parameter in model.named_parameters():\r\n",
    "        if not parameter.requires_grad: continue\r\n",
    "        param = parameter.numel()\r\n",
    "        table.add_row([name, param])\r\n",
    "        total_params+=param\r\n",
    "    print(table)\r\n",
    "    print(f\"Total Trainable Params: {total_params}\")\r\n",
    "    return total_params"
   ],
   "outputs": [],
   "metadata": {}
  },
  {
   "cell_type": "code",
   "execution_count": 7,
   "source": [
    "import torch as t\r\n",
    "import torch.nn as nn\r\n",
    "import numpy as np\r\n",
    "\r\n",
    "class ProductsModel(nn.Module):\r\n",
    "    def __init__(self):\r\n",
    "        super(ProductsModel, self).__init__()\r\n",
    "        self.hidden = nn.Linear(2, 32)\r\n",
    "        self.hidden2 = nn.Linear(32, 32)\r\n",
    "        self.final = nn.Linear(32, 1)\r\n",
    "\r\n",
    "    def forward(self, x):\r\n",
    "        if type(x) == np.ndarray:\r\n",
    "            x = t.from_numpy(x).float()\r\n",
    "        x = self.hidden(x)\r\n",
    "        x = t.relu(x)\r\n",
    "        x = self.hidden2(x)\r\n",
    "        x = t.relu(x)\r\n",
    "        x = self.final(x)\r\n",
    "        x = t.sigmoid(x)\r\n",
    "        return x[:, 0]\r\n",
    "\r\n",
    "model = ProductsModel()\r\n",
    "\r\n",
    "count_parameters(model)"
   ],
   "outputs": [
    {
     "output_type": "stream",
     "name": "stdout",
     "text": [
      "+----------------+------------+\n",
      "|    Modules     | Parameters |\n",
      "+----------------+------------+\n",
      "| hidden.weight  |     64     |\n",
      "|  hidden.bias   |     32     |\n",
      "| hidden2.weight |    1024    |\n",
      "|  hidden2.bias  |     32     |\n",
      "|  final.weight  |     32     |\n",
      "|   final.bias   |     1      |\n",
      "+----------------+------------+\n",
      "Total Trainable Params: 1185\n"
     ]
    },
    {
     "output_type": "execute_result",
     "data": {
      "text/plain": [
       "1185"
      ]
     },
     "metadata": {},
     "execution_count": 7
    }
   ],
   "metadata": {}
  },
  {
   "cell_type": "code",
   "execution_count": 8,
   "source": [
    "import torch as t\r\n",
    "import torch.nn as nn\r\n",
    "\r\n",
    "loss_fn = nn.MSELoss()\r\n",
    "optimizer = t.optim.Adam(model.parameters(), lr=0.1)\r\n",
    "\r\n",
    "for epoch in range(50):\r\n",
    "    y_pred = model(x_train)\r\n",
    "    loss = loss_fn(y_pred, y_train)\r\n",
    "    optimizer.zero_grad()\r\n",
    "    loss.backward()\r\n",
    "    optimizer.step()\r\n",
    "\r\n",
    "    y_discrete = y_pred.round()\r\n",
    "    accuracy = (y_discrete == y_train).float().mean()\r\n",
    "    print('Epoch: ', epoch, '| train loss: %.4f' % loss.item(), '| train accuracy: %.2f' % (accuracy.item() * 100))"
   ],
   "outputs": [
    {
     "output_type": "stream",
     "name": "stdout",
     "text": [
      "Epoch:  0 | train loss: 0.2512 | train accuracy: 37.00\n",
      "Epoch:  1 | train loss: 0.1490 | train accuracy: 81.67\n",
      "Epoch:  2 | train loss: 0.1400 | train accuracy: 79.00\n",
      "Epoch:  3 | train loss: 0.0910 | train accuracy: 89.33\n",
      "Epoch:  4 | train loss: 0.1017 | train accuracy: 88.00\n",
      "Epoch:  5 | train loss: 0.0907 | train accuracy: 89.67\n",
      "Epoch:  6 | train loss: 0.0856 | train accuracy: 90.67\n",
      "Epoch:  7 | train loss: 0.0857 | train accuracy: 89.67\n",
      "Epoch:  8 | train loss: 0.0782 | train accuracy: 91.33\n",
      "Epoch:  9 | train loss: 0.0752 | train accuracy: 92.33\n",
      "Epoch:  10 | train loss: 0.0752 | train accuracy: 91.67\n",
      "Epoch:  11 | train loss: 0.0766 | train accuracy: 91.33\n",
      "Epoch:  12 | train loss: 0.0746 | train accuracy: 92.00\n",
      "Epoch:  13 | train loss: 0.0721 | train accuracy: 92.33\n",
      "Epoch:  14 | train loss: 0.0712 | train accuracy: 92.00\n",
      "Epoch:  15 | train loss: 0.0715 | train accuracy: 91.67\n",
      "Epoch:  16 | train loss: 0.0721 | train accuracy: 92.33\n",
      "Epoch:  17 | train loss: 0.0726 | train accuracy: 92.00\n",
      "Epoch:  18 | train loss: 0.0725 | train accuracy: 92.33\n",
      "Epoch:  19 | train loss: 0.0718 | train accuracy: 92.33\n",
      "Epoch:  20 | train loss: 0.0711 | train accuracy: 92.33\n",
      "Epoch:  21 | train loss: 0.0710 | train accuracy: 92.00\n",
      "Epoch:  22 | train loss: 0.0712 | train accuracy: 91.67\n",
      "Epoch:  23 | train loss: 0.0713 | train accuracy: 92.00\n",
      "Epoch:  24 | train loss: 0.0713 | train accuracy: 92.33\n",
      "Epoch:  25 | train loss: 0.0711 | train accuracy: 92.33\n",
      "Epoch:  26 | train loss: 0.0707 | train accuracy: 92.00\n",
      "Epoch:  27 | train loss: 0.0707 | train accuracy: 92.00\n",
      "Epoch:  28 | train loss: 0.0706 | train accuracy: 92.33\n",
      "Epoch:  29 | train loss: 0.0706 | train accuracy: 92.00\n",
      "Epoch:  30 | train loss: 0.0706 | train accuracy: 92.00\n",
      "Epoch:  31 | train loss: 0.0703 | train accuracy: 92.00\n",
      "Epoch:  32 | train loss: 0.0702 | train accuracy: 92.00\n",
      "Epoch:  33 | train loss: 0.0702 | train accuracy: 92.00\n",
      "Epoch:  34 | train loss: 0.0701 | train accuracy: 92.00\n",
      "Epoch:  35 | train loss: 0.0701 | train accuracy: 92.33\n",
      "Epoch:  36 | train loss: 0.0700 | train accuracy: 92.67\n",
      "Epoch:  37 | train loss: 0.0699 | train accuracy: 92.67\n",
      "Epoch:  38 | train loss: 0.0697 | train accuracy: 92.67\n",
      "Epoch:  39 | train loss: 0.0696 | train accuracy: 92.00\n",
      "Epoch:  40 | train loss: 0.0695 | train accuracy: 92.33\n",
      "Epoch:  41 | train loss: 0.0694 | train accuracy: 92.67\n",
      "Epoch:  42 | train loss: 0.0692 | train accuracy: 92.67\n",
      "Epoch:  43 | train loss: 0.0691 | train accuracy: 92.67\n",
      "Epoch:  44 | train loss: 0.0690 | train accuracy: 92.67\n",
      "Epoch:  45 | train loss: 0.0689 | train accuracy: 92.33\n",
      "Epoch:  46 | train loss: 0.0688 | train accuracy: 92.33\n",
      "Epoch:  47 | train loss: 0.0686 | train accuracy: 92.67\n",
      "Epoch:  48 | train loss: 0.0684 | train accuracy: 92.67\n",
      "Epoch:  49 | train loss: 0.0682 | train accuracy: 93.00\n"
     ]
    }
   ],
   "metadata": {}
  },
  {
   "cell_type": "code",
   "execution_count": 9,
   "source": [
    "y_pred = model(x_test)\r\n",
    "y_discrete = y_pred.round()\r\n",
    "accuracy = (y_discrete == y_test).float().mean()\r\n",
    "print('| test loss: %.4f' % loss.item(), '| test accuracy: %.2f' % (accuracy.item() * 100))"
   ],
   "outputs": [
    {
     "output_type": "stream",
     "name": "stdout",
     "text": [
      "| test loss: 0.0682 | test accuracy: 93.00\n"
     ]
    }
   ],
   "metadata": {}
  },
  {
   "cell_type": "code",
   "execution_count": 10,
   "source": [
    "from matplotlib.colors import ListedColormap\r\n",
    "\r\n",
    "y_pred = model(x_test)\r\n",
    "\r\n",
    "x_set, y_set = x_train, y_train\r\n",
    "x1, x2 = np.meshgrid(\r\n",
    "    np.arange(start=x_set[:, 0].min() - 1, stop=x_set[:, 0].max() + 1, step=0.01),\r\n",
    "    np.arange(start=x_set[:, 1].min() - 1, stop=x_set[:, 1].max() + 1, step=0.01),\r\n",
    ")\r\n",
    "plt.contourf(\r\n",
    "    x1,\r\n",
    "    x2,\r\n",
    "    model(np.array([x1.ravel(), x2.ravel()]).T).reshape(x1.shape).float().detach().numpy(),\r\n",
    "    alpha=0.75,\r\n",
    "    cmap=ListedColormap((\"red\", \"green\")),\r\n",
    ")\r\n",
    "plt.xlim(x1.min(), x1.max())\r\n",
    "plt.ylim(x2.min(), x2.max())\r\n",
    "for i, j in enumerate(np.unique(y_set)):\r\n",
    "    plt.scatter(\r\n",
    "        x_set[y_set == j, 0],\r\n",
    "        x_set[y_set == j, 1],\r\n",
    "        c=ListedColormap((\"red\", \"green\"))(i),\r\n",
    "        label=j,\r\n",
    "    )\r\n",
    "plt.title(\"Products (Training)\")\r\n",
    "plt.xlabel(\"Age\")\r\n",
    "plt.ylabel(\"Estimated Salary\")\r\n",
    "plt.legend()\r\n",
    "plt.savefig(\"images/products_train_pytorch.png\")\r\n",
    "plt.show()"
   ],
   "outputs": [
    {
     "output_type": "stream",
     "name": "stderr",
     "text": [
      "*c* argument looks like a single numeric RGB or RGBA sequence, which should be avoided as value-mapping will have precedence in case its length matches with *x* & *y*.  Please use the *color* keyword-argument or provide a 2D array with a single row if you intend to specify the same RGB or RGBA value for all points.\n",
      "*c* argument looks like a single numeric RGB or RGBA sequence, which should be avoided as value-mapping will have precedence in case its length matches with *x* & *y*.  Please use the *color* keyword-argument or provide a 2D array with a single row if you intend to specify the same RGB or RGBA value for all points.\n"
     ]
    },
    {
     "output_type": "display_data",
     "data": {
      "text/plain": [
       "<Figure size 432x288 with 1 Axes>"
      ],
      "image/png": "[encoded data removed]"
     },
     "metadata": {
      "needs_background": "light"
     }
    }
   ],
   "metadata": {}
  },
  {
   "cell_type": "code",
   "execution_count": 11,
   "source": [
    "from matplotlib.colors import ListedColormap\r\n",
    "\r\n",
    "x_set, y_set = x_test, y_test\r\n",
    "x1, x2 = np.meshgrid(\r\n",
    "    np.arange(start=x_set[:, 0].min() - 1, stop=x_set[:, 0].max() + 1, step=0.01),\r\n",
    "    np.arange(start=x_set[:, 1].min() - 1, stop=x_set[:, 1].max() + 1, step=0.01),\r\n",
    ")\r\n",
    "plt.contourf(\r\n",
    "    x1,\r\n",
    "    x2,\r\n",
    "    model(np.array([x1.ravel(), x2.ravel()]).T).reshape(x1.shape).float().detach().numpy(),\r\n",
    "    alpha=0.75,\r\n",
    "    cmap=ListedColormap((\"red\", \"green\")),\r\n",
    ")\r\n",
    "plt.xlim(x1.min(), x1.max())\r\n",
    "plt.ylim(x2.min(), x2.max())\r\n",
    "for i, j in enumerate(np.unique(y_set)):\r\n",
    "    plt.scatter(\r\n",
    "        x_set[y_set == j, 0],\r\n",
    "        x_set[y_set == j, 1],\r\n",
    "        c=ListedColormap((\"red\", \"green\"))(i),\r\n",
    "        label=j,\r\n",
    "    )\r\n",
    "plt.title(\"Products (test)\")\r\n",
    "plt.xlabel(\"Age\")\r\n",
    "plt.ylabel(\"Estimated Salary\")\r\n",
    "plt.legend()\r\n",
    "plt.savefig(\"./images/products_test_pytorch.png\")\r\n",
    "plt.show()"
   ],
   "outputs": [
    {
     "output_type": "stream",
     "name": "stderr",
     "text": [
      "*c* argument looks like a single numeric RGB or RGBA sequence, which should be avoided as value-mapping will have precedence in case its length matches with *x* & *y*.  Please use the *color* keyword-argument or provide a 2D array with a single row if you intend to specify the same RGB or RGBA value for all points.\n",
      "*c* argument looks like a single numeric RGB or RGBA sequence, which should be avoided as value-mapping will have precedence in case its length matches with *x* & *y*.  Please use the *color* keyword-argument or provide a 2D array with a single row if you intend to specify the same RGB or RGBA value for all points.\n"
     ]
    },
    {
     "output_type": "display_data",
     "data": {
      "text/plain": [
       "<Figure size 432x288 with 1 Axes>"
      ],
      "image/png": "[encoded data removed]"
     },
     "metadata": {
      "needs_background": "light"
     }
    }
   ],
   "metadata": {}
  }
 ],
 "metadata": {
  "orig_nbformat": 4,
  "language_info": {
   "name": "python",
   "version": "3.9.6",
   "mimetype": "text/x-python",
   "codemirror_mode": {
    "name": "ipython",
    "version": 3
   },
   "pygments_lexer": "ipython3",
   "nbconvert_exporter": "python",
   "file_extension": ".py"
  },
  "kernelspec": {
   "name": "python3",
   "display_name": "Python 3.9.6 64-bit"
  },
  "interpreter": {
   "hash": "ecfeb61a17f0b1ea50255935286afcf0ade5576b566eb1edda905e2664d00f67"
  }
 },
 "nbformat": 4,
 "nbformat_minor": 2
}