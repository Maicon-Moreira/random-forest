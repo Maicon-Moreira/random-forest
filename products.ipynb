{
 "cells": [
  {
   "cell_type": "code",
   "execution_count": 1,
   "source": [
    "import numpy as np\r\n",
    "import matplotlib.pyplot as plt\r\n",
    "import pandas as pd"
   ],
   "outputs": [],
   "metadata": {}
  },
  {
   "cell_type": "code",
   "execution_count": 2,
   "source": [
    "dataset = pd.read_csv(\"products.csv\")\r\n",
    "x = dataset.values[:,2:4]\r\n",
    "y = dataset.values[:,4]\r\n",
    "\r\n",
    "# show 10 first x and y\r\n",
    "print(x[:10])\r\n",
    "print(y[:10])"
   ],
   "outputs": [
    {
     "output_type": "stream",
     "name": "stdout",
     "text": [
      "[[19 19000]\n",
      " [35 20000]\n",
      " [26 43000]\n",
      " [27 57000]\n",
      " [19 76000]\n",
      " [27 58000]\n",
      " [27 84000]\n",
      " [32 150000]\n",
      " [25 33000]\n",
      " [35 65000]]\n",
      "[0 0 0 0 0 0 0 1 0 0]\n"
     ]
    }
   ],
   "metadata": {}
  },
  {
   "cell_type": "code",
   "execution_count": 3,
   "source": [
    "from sklearn.model_selection import train_test_split\r\n",
    "\r\n",
    "x_train, x_test, y_train, y_test = train_test_split(\r\n",
    "    x, y, test_size=0.25, random_state=0\r\n",
    ")\r\n",
    "\r\n",
    "# print 5 first in x_train, y_train, x_test, y_test\r\n",
    "print(x_train[:5])\r\n",
    "print(y_train[:5])\r\n",
    "print(x_test[:5])\r\n",
    "print(y_test[:5])"
   ],
   "outputs": [
    {
     "output_type": "stream",
     "name": "stdout",
     "text": [
      "[[44 39000]\n",
      " [32 120000]\n",
      " [38 50000]\n",
      " [32 135000]\n",
      " [52 21000]]\n",
      "[0 1 0 1 1]\n",
      "[[30 87000]\n",
      " [38 50000]\n",
      " [35 75000]\n",
      " [30 79000]\n",
      " [35 50000]]\n",
      "[0 0 0 0 0]\n"
     ]
    }
   ],
   "metadata": {}
  },
  {
   "cell_type": "code",
   "execution_count": 4,
   "source": [
    "from sklearn.preprocessing import StandardScaler\r\n",
    "\r\n",
    "sc_x = StandardScaler()\r\n",
    "x_train = sc_x.fit_transform(x_train)\r\n",
    "x_test = sc_x.transform(x_test)\r\n",
    "\r\n",
    "# print 5 first in x_train, x_test\r\n",
    "print(x_train[:5])\r\n",
    "print(x_test[:5])"
   ],
   "outputs": [
    {
     "output_type": "stream",
     "name": "stdout",
     "text": [
      "[[ 0.58164944 -0.88670699]\n",
      " [-0.60673761  1.46173768]\n",
      " [-0.01254409 -0.5677824 ]\n",
      " [-0.60673761  1.89663484]\n",
      " [ 1.37390747 -1.40858358]]\n",
      "[[-0.80480212  0.50496393]\n",
      " [-0.01254409 -0.5677824 ]\n",
      " [-0.30964085  0.1570462 ]\n",
      " [-0.80480212  0.27301877]\n",
      " [-0.30964085 -0.5677824 ]]\n"
     ]
    }
   ],
   "metadata": {}
  },
  {
   "cell_type": "code",
   "execution_count": 5,
   "source": [
    "x_train = x_train.astype('float32')\r\n",
    "x_test = x_test.astype('float32')\r\n",
    "y_train = y_train.astype('float32')\r\n",
    "y_test = y_test.astype('float32')"
   ],
   "outputs": [],
   "metadata": {}
  },
  {
   "cell_type": "code",
   "execution_count": 6,
   "source": [
    "from sklearn.ensemble import RandomForestClassifier\r\n",
    "\r\n",
    "classifier = RandomForestClassifier(\r\n",
    "    n_estimators=30, criterion=\"entropy\", random_state=0\r\n",
    ")\r\n",
    "\r\n",
    "classifier.fit(x_train, y_train)"
   ],
   "outputs": [
    {
     "output_type": "execute_result",
     "data": {
      "text/plain": [
       "RandomForestClassifier(criterion='entropy', n_estimators=30, random_state=0)"
      ]
     },
     "metadata": {},
     "execution_count": 6
    }
   ],
   "metadata": {}
  },
  {
   "cell_type": "code",
   "execution_count": 7,
   "source": [
    "# print accuracy in train and in test\r\n",
    "print(f'train = {classifier.score(x_train, y_train)*100}%')\r\n",
    "print(f'test = {classifier.score(x_test, y_test)*100}%')"
   ],
   "outputs": [
    {
     "output_type": "stream",
     "name": "stdout",
     "text": [
      "train = 99.0%\n",
      "test = 92.0%\n"
     ]
    }
   ],
   "metadata": {}
  },
  {
   "cell_type": "code",
   "execution_count": 8,
   "source": [
    "from matplotlib.colors import ListedColormap\r\n",
    "\r\n",
    "y_pred = classifier.predict(x_test)\r\n",
    "\r\n",
    "x_set, y_set = x_train, y_train\r\n",
    "x1, x2 = np.meshgrid(\r\n",
    "    np.arange(start=x_set[:, 0].min() - 1, stop=x_set[:, 0].max() + 1, step=0.01),\r\n",
    "    np.arange(start=x_set[:, 1].min() - 1, stop=x_set[:, 1].max() + 1, step=0.01),\r\n",
    ")\r\n",
    "plt.contourf(\r\n",
    "    x1,\r\n",
    "    x2,\r\n",
    "    classifier.predict(np.array([x1.ravel(), x2.ravel()]).T).reshape(x1.shape),\r\n",
    "    alpha=0.75,\r\n",
    "    cmap=ListedColormap((\"red\", \"green\")),\r\n",
    ")\r\n",
    "plt.xlim(x1.min(), x1.max())\r\n",
    "plt.ylim(x2.min(), x2.max())\r\n",
    "for i, j in enumerate(np.unique(y_set)):\r\n",
    "    plt.scatter(\r\n",
    "        x_set[y_set == j, 0],\r\n",
    "        x_set[y_set == j, 1],\r\n",
    "        c=ListedColormap((\"red\", \"green\"))(i),\r\n",
    "        label=j,\r\n",
    "    )\r\n",
    "plt.title(\"Products (Training)\")\r\n",
    "plt.xlabel(\"Age\")\r\n",
    "plt.ylabel(\"Estimated Salary\")\r\n",
    "plt.legend()\r\n",
    "plt.savefig(\"images/products_train.png\")\r\n",
    "plt.show()"
   ],
   "outputs": [
    {
     "output_type": "stream",
     "name": "stderr",
     "text": [
      "*c* argument looks like a single numeric RGB or RGBA sequence, which should be avoided as value-mapping will have precedence in case its length matches with *x* & *y*.  Please use the *color* keyword-argument or provide a 2D array with a single row if you intend to specify the same RGB or RGBA value for all points.\n",
      "*c* argument looks like a single numeric RGB or RGBA sequence, which should be avoided as value-mapping will have precedence in case its length matches with *x* & *y*.  Please use the *color* keyword-argument or provide a 2D array with a single row if you intend to specify the same RGB or RGBA value for all points.\n"
     ]
    },
    {
     "output_type": "display_data",
     "data": {
      "text/plain": [
       "<Figure size 432x288 with 1 Axes>"
      ],
      "image/png": "[encoded data removed]"
     },
     "metadata": {
      "needs_background": "light"
     }
    }
   ],
   "metadata": {}
  },
  {
   "cell_type": "code",
   "execution_count": 9,
   "source": [
    "from matplotlib.colors import ListedColormap\r\n",
    "\r\n",
    "x_set, y_set = x_test, y_test\r\n",
    "x1, x2 = np.meshgrid(\r\n",
    "    np.arange(start=x_set[:, 0].min() - 1, stop=x_set[:, 0].max() + 1, step=0.01),\r\n",
    "    np.arange(start=x_set[:, 1].min() - 1, stop=x_set[:, 1].max() + 1, step=0.01),\r\n",
    ")\r\n",
    "plt.contourf(\r\n",
    "    x1,\r\n",
    "    x2,\r\n",
    "    classifier.predict(np.array([x1.ravel(), x2.ravel()]).T).reshape(x1.shape),\r\n",
    "    alpha=0.75,\r\n",
    "    cmap=ListedColormap((\"red\", \"green\")),\r\n",
    ")\r\n",
    "plt.xlim(x1.min(), x1.max())\r\n",
    "plt.ylim(x2.min(), x2.max())\r\n",
    "for i, j in enumerate(np.unique(y_set)):\r\n",
    "    plt.scatter(\r\n",
    "        x_set[y_set == j, 0],\r\n",
    "        x_set[y_set == j, 1],\r\n",
    "        c=ListedColormap((\"red\", \"green\"))(i),\r\n",
    "        label=j,\r\n",
    "    )\r\n",
    "plt.title(\"Products (test)\")\r\n",
    "plt.xlabel(\"Age\")\r\n",
    "plt.ylabel(\"Estimated Salary\")\r\n",
    "plt.legend()\r\n",
    "plt.savefig(\"./images/products_test.png\")\r\n",
    "plt.show()"
   ],
   "outputs": [
    {
     "output_type": "stream",
     "name": "stderr",
     "text": [
      "*c* argument looks like a single numeric RGB or RGBA sequence, which should be avoided as value-mapping will have precedence in case its length matches with *x* & *y*.  Please use the *color* keyword-argument or provide a 2D array with a single row if you intend to specify the same RGB or RGBA value for all points.\n",
      "*c* argument looks like a single numeric RGB or RGBA sequence, which should be avoided as value-mapping will have precedence in case its length matches with *x* & *y*.  Please use the *color* keyword-argument or provide a 2D array with a single row if you intend to specify the same RGB or RGBA value for all points.\n"
     ]
    },
    {
     "output_type": "display_data",
     "data": {
      "text/plain": [
       "<Figure size 432x288 with 1 Axes>"
      ],
      "image/png": "[encoded data removed]"
     },
     "metadata": {
      "needs_background": "light"
     }
    }
   ],
   "metadata": {}
  }
 ],
 "metadata": {
  "orig_nbformat": 4,
  "language_info": {
   "name": "python",
   "version": "3.9.6",
   "mimetype": "text/x-python",
   "codemirror_mode": {
    "name": "ipython",
    "version": 3
   },
   "pygments_lexer": "ipython3",
   "nbconvert_exporter": "python",
   "file_extension": ".py"
  },
  "kernelspec": {
   "name": "python3",
   "display_name": "Python 3.9.6 64-bit"
  },
  "interpreter": {
   "hash": "ecfeb61a17f0b1ea50255935286afcf0ade5576b566eb1edda905e2664d00f67"
  }
 },
 "nbformat": 4,
 "nbformat_minor": 2
}